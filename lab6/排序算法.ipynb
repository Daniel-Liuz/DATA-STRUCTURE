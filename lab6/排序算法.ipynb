{
 "cells": [
  {
   "cell_type": "markdown",
   "id": "50bfb09072148564",
   "metadata": {},
   "source": [
    "1. 冒泡排序 (Bubble Sort)\n",
    "原理：\n",
    "冒泡排序通过重复比较相邻元素，将较大的元素逐步“冒泡”到列表的末尾。整个过程需要进行多次遍历，直到没有发生交换为止。\n",
    "时间复杂度： 最坏情况和平均情况为 O(n²)。\n",
    "最好的情况为O(n)"
   ]
  },
  {
   "cell_type": "code",
   "execution_count": null,
   "id": "59adbd0453590b98",
   "metadata": {},
   "outputs": [],
   "source": [
    "def bubble_sort(arr):\n",
    "    n = len(arr)\n",
    "    # 外层循环：需要进行 n 次遍历\n",
    "    for i in range(n):\n",
    "        # 内层循环：每次比较相邻的元素，并将最大的放到末尾\n",
    "        for j in range(0, n - i - 1):\n",
    "            if arr[j] > arr[j + 1]:\n",
    "                arr[j], arr[j + 1] = arr[j + 1], arr[j]\n",
    "    return arr\n"
   ]
  },
  {
   "cell_type": "markdown",
   "id": "9daa557a-f5d0-4e25-ab5a-f133ee5fc018",
   "metadata": {},
   "source": [
    "2. 插入排序 (Insertion Sort)\n",
    "原理：\n",
    "插入排序通过构造一个有序序列，对于未排序数据，在已排序序列中从后向前扫描，找到相应位置并插入。\n",
    "时间复杂度： 最坏情况为 O(n²)，在近乎有序的情况下性能较好，为 O(n)。"
   ]
  },
  {
   "cell_type": "code",
   "execution_count": 2,
   "id": "8c9f81d2-9d37-403e-bfcc-467a8170f52c",
   "metadata": {},
   "outputs": [],
   "source": [
    "def insertion_sort(arr):\n",
    "    # 从第二个元素开始，逐个插入到前面已经排好序的序列中\n",
    "    for i in range(1, len(arr)):\n",
    "        key = arr[i]\n",
    "        j = i - 1\n",
    "        # 将大于 key 的元素向后移动\n",
    "        while j >= 0 and key < arr[j]:\n",
    "            arr[j + 1] = arr[j]\n",
    "            j -= 1\n",
    "        # 找到合适的位置插入 key\n",
    "        arr[j + 1] = key\n",
    "    return arr\n"
   ]
  },
  {
   "metadata": {},
   "cell_type": "code",
   "outputs": [],
   "execution_count": null,
   "source": [
    "def selection_sort(arr):\n",
    "\tn=len(arr)#获得数组的长度\n",
    "\t#外层循环控制已排序部分的边界\n",
    "\tfor i in range(n):\n",
    "\t\t# 假设当前未排序部分的第一个元素未最小值\n",
    "\t\tmin_index=i#每一次都确保，这个i以前的都是排好序的\n",
    "\t\t#在未排序部分查找最小值\n",
    "\t\tfor j in range(i+1,n):\n",
    "\t\t\tif arr[j]<arr[min_index]:\n",
    "\t\t\t\tmin_index=j\n",
    "\t\t#将找到的最小值与未排序部分的第一个元素交换位置\n",
    "\t\tarr[i],arr[min_index]=arr[min_index],arr[i]\n",
    "\treturn arr\n"
   ],
   "id": "661d7380533f710f"
  },
  {
   "metadata": {},
   "cell_type": "code",
   "outputs": [],
   "execution_count": null,
   "source": [
    "def bidirectional_selection_sort(arr):\n",
    "\t#保存每一轮排序的过程中，第一个数和最后一个数的下标\n",
    "\tbegin = 0\n",
    "\tend = len(arr)-1\n",
    "# 每一轮，最大的数放到数组的末尾，最小的数放到数组的开头\n",
    "\twhile begin<end:#循环的控制条件\n",
    "\t\tmaxi=begin\n",
    "\t\tmini=begin\n",
    "\t\t#找出最大值和最小值的下标\n",
    "\t\tfor i in range(begin,end+1)#这里+1是因为 range末端是不算的\n",
    "\t\t\tif arr[i]<arr[mini]:\n",
    "\t\t\t\tmini=i\n",
    "\t\t\tif arr[i]>arr[maxi]:\n",
    "\t\t\t\tmaxi=i\n",
    "\t\t#将每一轮的最小值，放在开头\n",
    "\t\tarr[mini],arr[begin]=arr[begin],arr[mini]\n",
    "\t\t#将每一轮的最大值，放在末尾\n",
    "\t\t#当最大值maxi也指向begin时，这会导致，此时的begin其实对应的是mini所指向的位置，因此需要做一个提前的判断\n",
    "\t\tif maxi==begin:\n",
    "\t\t\tmaxi=mini\n",
    "\t\t#处理这种特殊情况后，进行互换\n",
    "\t\tarr[maxi],arr[end]=arr[end],arr[maxi]\n",
    "\t\t#每一轮外层迭代，范围都会缩小\n",
    "\t\tbegin+=1\n",
    "\t\tend-=1\n",
    "\treturn arr\n"
   ],
   "id": "ad5bbfaeea3a6e9d"
  },
  {
   "cell_type": "markdown",
   "id": "f59f7783-47ab-44ee-b02d-7728580c7af2",
   "metadata": {},
   "source": [
    "3. 快速排序 (Quick Sort)\n",
    "原理：\n",
    "快速排序采用分治策略。它通过选择一个基准（pivot）元素，将数组划分成左右两个部分，其中左边部分的所有元素都不大于基准，右边部分的元素都不小于基准，然后递归地对这两个子序列排序。\n",
    "时间复杂度： 平均情况为 O(n log n)，最坏情况为 O(n²)（当每次选择的基准不能均衡划分时）。\n",
    "4. "
   ]
  }
 ],
 "metadata": {
  "kernelspec": {
   "display_name": "Python 3 (ipykernel)",
   "language": "python",
   "name": "python3"
  },
  "language_info": {
   "codemirror_mode": {
    "name": "ipython",
    "version": 3
   },
   "file_extension": ".py",
   "mimetype": "text/x-python",
   "name": "python",
   "nbconvert_exporter": "python",
   "pygments_lexer": "ipython3",
   "version": "3.12.9"
  }
 },
 "nbformat": 4,
 "nbformat_minor": 5
}
