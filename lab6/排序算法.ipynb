{
 "cells": [
  {
   "cell_type": "markdown",
   "id": "50bfb09072148564",
   "metadata": {},
   "source": [
    "# 冒泡排序\n",
    "## 思路\n",
    "\n",
    "左边大于右边交换一趟排下来最大的在右边\n",
    "每一轮都是两两比较，最后就会实现把最大的那个放到最后# 冒泡"
   ]
  },
  {
   "cell_type": "code",
   "id": "59adbd0453590b98",
   "metadata": {
    "ExecuteTime": {
     "end_time": "2025-03-31T11:39:46.126256Z",
     "start_time": "2025-03-31T11:39:46.073997Z"
    }
   },
   "source": [
    "\n",
    "def bubble_sort(arr):\n",
    "\tn=len(arr)\n",
    "\t#外层循环：需要进行n次遍历\n",
    "\tfor i in range(n):\n",
    "\t\t#每次比较相邻元素，并将最大的放到末尾\n",
    "\t\tfor j in range(0,n-i-j):\n",
    "\t\t\tif arr[j]>arr[j+1]:#排成递增的\n",
    "\t\t\t\t#前面的比后面的大，交换\n",
    "\t\t\t\tarr[j],arr[j+1]=arr[j+1],arr[j]\n",
    "\treturn arr\n"
   ],
   "outputs": [],
   "execution_count": 1
  },
  {
   "cell_type": "markdown",
   "id": "9daa557a-f5d0-4e25-ab5a-f133ee5fc018",
   "metadata": {},
   "source": [
    "# 插入排序 (Insertion Sort)\n",
    "## 原理：\n",
    "插入排序通过构造一个有序序列，对于未排序数据，在已排序序列中从后向前扫描，找到相应位置并插入。\n",
    "\n",
    "时间复杂度： 最坏情况为 O(n²)，在近乎有序的情况下性能较好，为 O(n)。"
   ]
  },
  {
   "cell_type": "code",
   "id": "8c9f81d2-9d37-403e-bfcc-467a8170f52c",
   "metadata": {
    "ExecuteTime": {
     "end_time": "2025-03-31T11:39:46.730900Z",
     "start_time": "2025-03-31T11:39:46.721159Z"
    }
   },
   "source": [
    "def insertion_sort(arr):\n",
    "    # 从第二个元素开始，逐个插入到前面已经排好序的序列中\n",
    "    for i in range(1, len(arr)):\n",
    "        key = arr[i]\n",
    "        j = i - 1\n",
    "        # 将大于 key 的元素向后移动\n",
    "        while j >= 0 and key < arr[j]:\n",
    "            arr[j + 1] = arr[j]\n",
    "            j -= 1\n",
    "        # 找到合适的位置插入 key\n",
    "        arr[j + 1] = key\n",
    "    return arr\n"
   ],
   "outputs": [],
   "execution_count": 2
  },
  {
   "metadata": {},
   "cell_type": "markdown",
   "source": [
    "# 选择排序\n",
    "## 思路：\n",
    "每次从待排序列中选出一个最小值，然后放在序列的起始位置，直到全部待排数据排完即可。 "
   ],
   "id": "5f20a208ba46d27"
  },
  {
   "metadata": {
    "ExecuteTime": {
     "end_time": "2025-03-31T11:39:46.834534Z",
     "start_time": "2025-03-31T11:39:46.814242Z"
    }
   },
   "cell_type": "code",
   "source": [
    "def selection_sort(arr):\n",
    "\tn=len(arr)#获得数组的长度\n",
    "\t#外层循环控制已排序部分的边界\n",
    "\tfor i in range(n):\n",
    "\t\t# 假设当前未排序部分的第一个元素未最小值\n",
    "\t\tmin_index=i#每一次都确保，这个i以前的都是排好序的\n",
    "\t\t#在未排序部分查找最小值\n",
    "\t\tfor j in range(i+1,n):\n",
    "\t\t\tif arr[j]<arr[min_index]:\n",
    "\t\t\t\tmin_index=j\n",
    "\t\t#将找到的最小值与未排序部分的第一个元素交换位置\n",
    "\t\tarr[i],arr[min_index]=arr[min_index],arr[i]\n",
    "\treturn arr\n"
   ],
   "id": "661d7380533f710f",
   "outputs": [],
   "execution_count": 3
  },
  {
   "metadata": {
    "ExecuteTime": {
     "end_time": "2025-03-31T11:39:46.896595Z",
     "start_time": "2025-03-31T11:39:46.886313Z"
    }
   },
   "cell_type": "code",
   "source": [
    "def bidirectional_selection_sort(arr):\n",
    "\t#保存每一轮排序的过程中，第一个数和最后一个数的下标\n",
    "\tbegin = 0\n",
    "\tend = len(arr)-1\n",
    "# 每一轮，最大的数放到数组的末尾，最小的数放到数组的开头\n",
    "\twhile begin<end:#循环的控制条件\n",
    "\t\tmaxi=begin\n",
    "\t\tmini=begin\n",
    "\t\t#找出最大值和最小值的下标\n",
    "\t\tfor i in range(begin,end+1):#这里+1是因为 range末端是不算的\n",
    "\t\t\tif arr[i]<arr[mini]:\n",
    "\t\t\t\tmini=i\n",
    "\t\t\tif arr[i]>arr[maxi]:\n",
    "\t\t\t\tmaxi=i\n",
    "\t\t#将每一轮的最小值，放在开头\n",
    "\t\tarr[mini],arr[begin]=arr[begin],arr[mini]\n",
    "\t\t#将每一轮的最大值，放在末尾\n",
    "\t\t#当最大值maxi也指向begin时，这会导致，此时的begin其实对应的是mini所指向的位置，因此需要做一个提前的判断\n",
    "\t\tif maxi==begin:\n",
    "\t\t\tmaxi=mini\n",
    "\t\t#处理这种特殊情况后，进行互换\n",
    "\t\tarr[maxi],arr[end]=arr[end],arr[maxi]\n",
    "\t\t#每一轮外层迭代，范围都会缩小\n",
    "\t\tbegin+=1\n",
    "\t\tend-=1\n",
    "\treturn arr\n"
   ],
   "id": "ad5bbfaeea3a6e9d",
   "outputs": [],
   "execution_count": 4
  },
  {
   "metadata": {},
   "cell_type": "markdown",
   "source": [
    "# 堆排序\n",
    "## 思路：\n",
    "堆排序（Heap Sort）是一种基于比较的排序算法，它利用堆这种数据结构（通常是二叉堆）来实现排序。堆排序的时间复杂度是 O(n log n)，是一种不稳定的排序算法。"
   ],
   "id": "aa35da0e8b405a19"
  },
  {
   "metadata": {
    "ExecuteTime": {
     "end_time": "2025-03-31T11:39:47.877965Z",
     "start_time": "2025-03-31T11:39:47.853899Z"
    }
   },
   "cell_type": "code",
   "source": [
    "def heapify(arr,n,i):\n",
    "#堆化:维护堆的性质，确保以i为根的子树成为一个最大堆\n",
    "#这个堆的所有子堆，都已经是完全堆了，由下面的函数保证\n",
    "#所有本函数，只需要维护好，自己是一个最大堆就可以\n",
    "\tlargest=i\n",
    "\tleft=2*i+1#左子节点的索引\n",
    "\tright=2*i+2#右子节点的索引\n",
    "\n",
    "\t#如果左子节点大于根节点,在不超过整个堆的情况下\n",
    "\tif left<n and arr[left]>arr[largest]:\n",
    "\t\tlargest=left\n",
    "\t#如果右子节点大于根节点，在不超过整个堆的情况下\n",
    "\tif right<n and arr[right]>arr[largest]:\n",
    "\t\tlargest=right\n",
    "\t#如果发生过变化，也就是，如果此时最大值不是根节点\n",
    "\t#就需要递归调用，继续堆化\n",
    "\tif largest!=i:\n",
    "\t\tarr[i],arr[largest]=arr[largest]，arr[i]#交换\n",
    "\t\theapify(arr,n,largest)#递归堆化被交换的子树\n",
    "\n",
    "def heap_sort(arr):\n",
    "\tn=len(arr)\n",
    "\t#第一步：构建最大堆\n",
    "\t#从最后一个非叶子节点开始堆化，自底向上\n",
    "\t#从n//2-1开始一直到0\n",
    "\tfor i in range(n//2-1,-1,-1):\n",
    "\t\theapify(arr,n,i)\n",
    "\t#第二步：逐个交换堆顶元素与当前堆的末尾元素，并重新堆化\n",
    "\tfor i in range(n-1,0,-1)\n",
    "\t\t#将堆顶元素与当前堆的最后一个元素交换\n",
    "\t\tarr[i],arr[0]=arr[i],arr[0]\n",
    "\t\t#重新根化根节点，使其满足堆的性质\n",
    "\t\theapify(arr,i,0)\n",
    "\treturn arr\n"
   ],
   "id": "95f6628ebcb59844",
   "outputs": [],
   "execution_count": 5
  },
  {
   "cell_type": "markdown",
   "id": "f59f7783-47ab-44ee-b02d-7728580c7af2",
   "metadata": {},
   "source": ""
  }
 ],
 "metadata": {
  "kernelspec": {
   "display_name": "Python 3 (ipykernel)",
   "language": "python",
   "name": "python3"
  },
  "language_info": {
   "codemirror_mode": {
    "name": "ipython",
    "version": 3
   },
   "file_extension": ".py",
   "mimetype": "text/x-python",
   "name": "python",
   "nbconvert_exporter": "python",
   "pygments_lexer": "ipython3",
   "version": "3.12.9"
  }
 },
 "nbformat": 4,
 "nbformat_minor": 5
}
