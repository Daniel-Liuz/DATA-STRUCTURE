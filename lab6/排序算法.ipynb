{
 "cells": [
  {
   "cell_type": "markdown",
   "id": "50bfb09072148564",
   "metadata": {},
   "source": [
    "1. 冒泡排序 (Bubble Sort)\n",
    "原理：\n",
    "冒泡排序通过重复比较相邻元素，将较大的元素逐步“冒泡”到列表的末尾。整个过程需要进行多次遍历，直到没有发生交换为止。\n",
    "时间复杂度： 最坏情况和平均情况为 O(n²)。\n",
    "最好的情况为O(n)"
   ]
  },
  {
   "cell_type": "code",
   "execution_count": null,
   "id": "59adbd0453590b98",
   "metadata": {},
   "outputs": [],
   "source": [
    "def bubble_sort(arr):\n",
    "    n = len(arr)\n",
    "    # 外层循环：需要进行 n 次遍历\n",
    "    for i in range(n):\n",
    "        # 内层循环：每次比较相邻的元素，并将最大的放到末尾\n",
    "        for j in range(0, n - i - 1):\n",
    "            if arr[j] > arr[j + 1]:\n",
    "                arr[j], arr[j + 1] = arr[j + 1], arr[j]\n",
    "    return arr\n"
   ]
  },
  {
   "cell_type": "markdown",
   "id": "9daa557a-f5d0-4e25-ab5a-f133ee5fc018",
   "metadata": {},
   "source": [
    "2. 插入排序 (Insertion Sort)\n",
    "原理：\n",
    "插入排序通过构造一个有序序列，对于未排序数据，在已排序序列中从后向前扫描，找到相应位置并插入。\n",
    "时间复杂度： 最坏情况为 O(n²)，在近乎有序的情况下性能较好，为 O(n)。"
   ]
  },
  {
   "cell_type": "code",
   "execution_count": 2,
   "id": "8c9f81d2-9d37-403e-bfcc-467a8170f52c",
   "metadata": {},
   "outputs": [],
   "source": [
    "def insertion_sort(arr):\n",
    "    # 从第二个元素开始，逐个插入到前面已经排好序的序列中\n",
    "    for i in range(1, len(arr)):\n",
    "        key = arr[i]\n",
    "        j = i - 1\n",
    "        # 将大于 key 的元素向后移动\n",
    "        while j >= 0 and key < arr[j]:\n",
    "            arr[j + 1] = arr[j]\n",
    "            j -= 1\n",
    "        # 找到合适的位置插入 key\n",
    "        arr[j + 1] = key\n",
    "    return arr\n"
   ]
  },
  {
   "cell_type": "markdown",
   "id": "f59f7783-47ab-44ee-b02d-7728580c7af2",
   "metadata": {},
   "source": [
    "3. 快速排序 (Quick Sort)\n",
    "原理：\n",
    "快速排序采用分治策略。它通过选择一个基准（pivot）元素，将数组划分成左右两个部分，其中左边部分的所有元素都不大于基准，右边部分的元素都不小于基准，然后递归地对这两个子序列排序。\n",
    "时间复杂度： 平均情况为 O(n log n)，最坏情况为 O(n²)（当每次选择的基准不能均衡划分时）。\n",
    "4. "
   ]
  }
 ],
 "metadata": {
  "kernelspec": {
   "display_name": "Python 3 (ipykernel)",
   "language": "python",
   "name": "python3"
  },
  "language_info": {
   "codemirror_mode": {
    "name": "ipython",
    "version": 3
   },
   "file_extension": ".py",
   "mimetype": "text/x-python",
   "name": "python",
   "nbconvert_exporter": "python",
   "pygments_lexer": "ipython3",
   "version": "3.12.9"
  }
 },
 "nbformat": 4,
 "nbformat_minor": 5
}
