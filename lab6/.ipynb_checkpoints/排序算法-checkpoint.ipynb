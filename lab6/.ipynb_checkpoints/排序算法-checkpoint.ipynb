{
 "cells": [
  {
   "metadata": {},
   "cell_type": "markdown",
   "source": [
    "1. 冒泡排序 (Bubble Sort)\n",
    "原理：\n",
    "冒泡排序通过重复比较相邻元素，将较大的元素逐步“冒泡”到列表的末尾。整个过程需要进行多次遍历，直到没有发生交换为止。\n",
    "时间复杂度： 最坏情况和平均情况为 O(n²)。\n",
    "最好的情况为O(n)"
   ],
   "id": "50bfb09072148564"
  },
  {
   "metadata": {},
   "cell_type": "code",
   "outputs": [],
   "execution_count": null,
   "source": [
    "def bubble_sort(arr):\n",
    "    n = len(arr)\n",
    "    # 外层循环：需要进行 n 次遍历\n",
    "    for i in range(n):\n",
    "        # 内层循环：每次比较相邻的元素，并将最大的放到末尾\n",
    "        for j in range(0, n - i - 1):\n",
    "            if arr[j] > arr[j + 1]:\n",
    "                arr[j], arr[j + 1] = arr[j + 1], arr[j]\n",
    "    return arr\n"
   ],
   "id": "59adbd0453590b98"
  }
 ],
 "metadata": {
  "kernelspec": {
   "display_name": "Python 3",
   "language": "python",
   "name": "python3"
  },
  "language_info": {
   "codemirror_mode": {
    "name": "ipython",
    "version": 2
   },
   "file_extension": ".py",
   "mimetype": "text/x-python",
   "name": "python",
   "nbconvert_exporter": "python",
   "pygments_lexer": "ipython2",
   "version": "2.7.6"
  }
 },
 "nbformat": 4,
 "nbformat_minor": 5
}
